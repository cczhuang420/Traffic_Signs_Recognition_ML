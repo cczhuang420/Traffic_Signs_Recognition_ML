{
 "cells": [
  {
   "cell_type": "markdown",
   "id": "fd9200f8",
   "metadata": {},
   "source": [
    "## Train SVC Model"
   ]
  },
  {
   "cell_type": "code",
   "execution_count": 2,
   "id": "8eb12bf1",
   "metadata": {},
   "outputs": [
    {
     "name": "stdout",
     "output_type": "stream",
     "text": [
      "number of samples:  73139\n",
      "keys:  ['description', 'label', 'filename', 'data']\n",
      "description:  resized (32,32) animal images in rgb\n",
      "image shape:  (32, 32, 3)\n",
      "labels: ['0' '1' '10' '11' '12' '13' '14' '15' '16' '17' '18' '19' '2' '20' '21'\n",
      " '22' '23' '24' '25' '26' '27' '28' '29' '3' '30' '31' '32' '33' '34' '35'\n",
      " '36' '37' '38' '39' '4' '40' '41' '42' '5' '6' '7' '8' '9']\n"
     ]
    },
    {
     "data": {
      "text/plain": [
       "Counter({'32': 450,\n",
       "         '35': 2280,\n",
       "         '34': 780,\n",
       "         '33': 1288,\n",
       "         '20': 660,\n",
       "         '18': 2280,\n",
       "         '27': 450,\n",
       "         '9': 2790,\n",
       "         '0': 451,\n",
       "         '11': 2490,\n",
       "         '7': 2730,\n",
       "         '29': 510,\n",
       "         '16': 780,\n",
       "         '42': 450,\n",
       "         '6': 780,\n",
       "         '28': 1020,\n",
       "         '17': 2100,\n",
       "         '1': 4920,\n",
       "         '10': 3810,\n",
       "         '19': 390,\n",
       "         '26': 1140,\n",
       "         '8': 2670,\n",
       "         '21': 600,\n",
       "         '38': 3930,\n",
       "         '36': 720,\n",
       "         '31': 1470,\n",
       "         '30': 840,\n",
       "         '37': 390,\n",
       "         '39': 570,\n",
       "         '41': 450,\n",
       "         '24': 510,\n",
       "         '23': 960,\n",
       "         '4': 3750,\n",
       "         '15': 1170,\n",
       "         '3': 2670,\n",
       "         '12': 3990,\n",
       "         '40': 660,\n",
       "         '2': 2610,\n",
       "         '13': 4080,\n",
       "         '5': 3510,\n",
       "         '14': 1470,\n",
       "         '22': 720,\n",
       "         '25': 2850})"
      ]
     },
     "execution_count": 2,
     "metadata": {},
     "output_type": "execute_result"
    }
   ],
   "source": [
    "import numpy as np\n",
    "import os\n",
    "import joblib\n",
    "from collections import Counter\n",
    "\n",
    "\n",
    "cwd = os.getcwd()\n",
    "resized_data_path = os.path.join(cwd, 'resized_data_32x32px.joblib')\n",
    "data = joblib.load(resized_data_path)\n",
    " \n",
    "print('number of samples: ', len(data['data']))\n",
    "print('keys: ', list(data.keys()))\n",
    "print('description: ', data['description'])\n",
    "print('image shape: ', data['data'][0].shape)\n",
    "print('labels:', np.unique(data['label']))\n",
    " \n",
    "Counter(data['label'])"
   ]
  },
  {
   "cell_type": "code",
   "execution_count": 3,
   "id": "c9071f27",
   "metadata": {},
   "outputs": [
    {
     "data": {
      "text/html": [
       "<div>\n",
       "<style scoped>\n",
       "    .dataframe tbody tr th:only-of-type {\n",
       "        vertical-align: middle;\n",
       "    }\n",
       "\n",
       "    .dataframe tbody tr th {\n",
       "        vertical-align: top;\n",
       "    }\n",
       "\n",
       "    .dataframe thead th {\n",
       "        text-align: right;\n",
       "    }\n",
       "</style>\n",
       "<table border=\"1\" class=\"dataframe\">\n",
       "  <thead>\n",
       "    <tr style=\"text-align: right;\">\n",
       "      <th></th>\n",
       "      <th>ClassId</th>\n",
       "      <th>Name</th>\n",
       "    </tr>\n",
       "  </thead>\n",
       "  <tbody>\n",
       "    <tr>\n",
       "      <th>0</th>\n",
       "      <td>0</td>\n",
       "      <td>Speed limit (20km/h)</td>\n",
       "    </tr>\n",
       "    <tr>\n",
       "      <th>1</th>\n",
       "      <td>1</td>\n",
       "      <td>Speed limit (30km/h)</td>\n",
       "    </tr>\n",
       "    <tr>\n",
       "      <th>2</th>\n",
       "      <td>2</td>\n",
       "      <td>Speed limit (50km/h)</td>\n",
       "    </tr>\n",
       "    <tr>\n",
       "      <th>3</th>\n",
       "      <td>3</td>\n",
       "      <td>Speed limit (60km/h)</td>\n",
       "    </tr>\n",
       "    <tr>\n",
       "      <th>4</th>\n",
       "      <td>4</td>\n",
       "      <td>Speed limit (70km/h)</td>\n",
       "    </tr>\n",
       "  </tbody>\n",
       "</table>\n",
       "</div>"
      ],
      "text/plain": [
       "   ClassId                  Name\n",
       "0        0  Speed limit (20km/h)\n",
       "1        1  Speed limit (30km/h)\n",
       "2        2  Speed limit (50km/h)\n",
       "3        3  Speed limit (60km/h)\n",
       "4        4  Speed limit (70km/h)"
      ]
     },
     "execution_count": 3,
     "metadata": {},
     "output_type": "execute_result"
    }
   ],
   "source": [
    "import pandas as pd\n",
    "\n",
    "label = pd.read_csv('labels.csv')\n",
    "label.head()"
   ]
  },
  {
   "cell_type": "code",
   "execution_count": 27,
   "id": "24c72154",
   "metadata": {},
   "outputs": [
    {
     "data": {
      "image/png": "[encoded data removed]",
      "text/plain": [
       "<Figure size 1500x400 with 43 Axes>"
      ]
     },
     "metadata": {},
     "output_type": "display_data"
    }
   ],
   "source": [
    "import matplotlib.pyplot as plt\n",
    "# use np.unique to get all unique values in the list of labels\n",
    "labels = np.unique(data['label'])\n",
    " \n",
    "# set up the matplotlib figure and axes, based on the number of labels\n",
    "fig, axes = plt.subplots(1, len(labels))\n",
    "fig.set_size_inches(15,4)\n",
    "# fig.tight_layout()\n",
    " \n",
    "# make a plot for every label (equipment) type. The index method returns the \n",
    "# index of the first item corresponding to its search string, label in this case\n",
    "for ax, label in zip(axes, labels):\n",
    "    idx = data['label'].index(label)\n",
    "     \n",
    "    ax.imshow(data['data'][idx])\n",
    "    ax.axis('off')\n",
    "    ax.set_title(label)"
   ]
  },
  {
   "cell_type": "code",
   "execution_count": 1,
   "id": "61fb53c1",
   "metadata": {},
   "outputs": [
    {
     "data": {
      "text/plain": [
       "(array([[ 2.04557927, -0.2749248 , -0.86596841, ..., -0.77128054,\n",
       "          0.28480901,  0.01399857],\n",
       "        [ 0.34575296,  0.89956562,  0.84809213, ..., -0.90885167,\n",
       "         -1.40392052, -1.43872944],\n",
       "        [ 1.20050409,  0.89991056,  0.84840783, ..., -1.21920173,\n",
       "         -0.77627834,  0.20426867],\n",
       "        ...,\n",
       "        [ 1.48605832, -1.18089428, -0.90964312, ..., -0.2483018 ,\n",
       "         -0.85697608, -0.90000507],\n",
       "        [ 0.62921892,  0.8697146 , -0.19918241, ..., -1.24124101,\n",
       "         -1.14107323,  0.94350768],\n",
       "        [-0.26545261,  0.11537739, -0.10745928, ..., -0.27473827,\n",
       "          1.06102355,  0.89906885]]),\n",
       " array([[-0.9902563 , -0.42091438,  0.94058309, ..., -1.19668327,\n",
       "         -1.06608467,  1.06933816],\n",
       "        [ 1.25747911, -0.70018413,  0.92018635, ..., -0.94743678,\n",
       "         -1.24674432, -2.33624921],\n",
       "        [-1.74841658, -0.57249161,  1.26519766, ...,  1.45724191,\n",
       "         -0.23505184, -0.52478121],\n",
       "        ...,\n",
       "        [ 1.52170326, -0.38965662, -1.5779162 , ...,  1.25037707,\n",
       "          1.39699668,  0.78561818],\n",
       "        [-0.40904443,  0.78066593,  0.74311836, ...,  0.14527876,\n",
       "         -1.13734983, -0.23418154],\n",
       "        [-0.84420901,  0.52920711,  0.59015155, ..., -0.63543462,\n",
       "         -0.3073114 ,  0.35182619]]))"
      ]
     },
     "execution_count": 1,
     "metadata": {},
     "output_type": "execute_result"
    }
   ],
   "source": [
    "import joblib\n",
    "X_train_prepared = joblib.load('x_train_prepared_data.joblib')\n",
    "X_test_prepared = joblib.load('x_test_prepared_data.joblib')\n",
    "y_test = joblib.load('y_test_data.joblib')\n",
    "y_train = joblib.load('y_train_data.joblib')\n",
    "X_train_prepared, X_test_prepared"
   ]
  },
  {
   "cell_type": "code",
   "execution_count": 37,
   "id": "f8ae1df7",
   "metadata": {},
   "outputs": [
    {
     "name": "stdout",
     "output_type": "stream",
     "text": [
      "training_accuracy for C=0.1: 0.6637384423441746\n",
      "\n"
     ]
    }
   ],
   "source": [
    "# linear SVC\n",
    "from sklearn.svm import SVC\n",
    "import numpy as np\n",
    "from sklearn.metrics import accuracy_score,classification_report\n",
    "\n",
    "clf = SVC(kernel='linear', C=10)\n",
    "clf.fit(X_train_prepared, y_train)\n",
    "print(f'training_accuracy for C=10: {clf.score(X_train_prepared, y_train)}\\n')"
   ]
  },
  {
   "cell_type": "code",
   "execution_count": 41,
   "id": "bf375aab",
   "metadata": {},
   "outputs": [
    {
     "name": "stdout",
     "output_type": "stream",
     "text": [
      "              precision    recall  f1-score   support\n",
      "\n",
      "           0       0.61      0.62      0.61        78\n",
      "           1       0.48      0.66      0.56       979\n",
      "          10       0.58      0.68      0.63       786\n",
      "          11       0.50      0.62      0.56       497\n",
      "          12       0.93      0.95      0.94       810\n",
      "          13       0.99      0.99      0.99       812\n",
      "          14       0.77      0.73      0.75       298\n",
      "          15       0.55      0.40      0.46       243\n",
      "          16       0.77      0.80      0.78       168\n",
      "          17       0.94      0.96      0.95       425\n",
      "          18       0.68      0.78      0.73       460\n",
      "          19       0.49      0.49      0.49        86\n",
      "           2       0.41      0.25      0.31       533\n",
      "          20       0.68      0.64      0.66       122\n",
      "          21       0.70      0.71      0.70       113\n",
      "          22       0.62      0.72      0.67       138\n",
      "          23       0.62      0.62      0.62       208\n",
      "          24       0.58      0.39      0.47        92\n",
      "          25       0.61      0.69      0.65       565\n",
      "          26       0.57      0.46      0.51       229\n",
      "          27       0.59      0.39      0.47        74\n",
      "          28       0.52      0.28      0.36       213\n",
      "          29       0.57      0.44      0.50        97\n",
      "           3       0.45      0.36      0.40       559\n",
      "          30       0.69      0.47      0.56       164\n",
      "          31       0.80      0.82      0.81       280\n",
      "          32       0.85      0.79      0.81        84\n",
      "          33       0.68      0.71      0.69       265\n",
      "          34       0.77      0.55      0.64       161\n",
      "          35       0.78      0.84      0.81       464\n",
      "          36       0.86      0.72      0.79       152\n",
      "          37       0.81      0.65      0.72        71\n",
      "          38       0.76      0.80      0.78       765\n",
      "          39       0.81      0.78      0.79       108\n",
      "           4       0.46      0.56      0.50       714\n",
      "          40       0.63      0.60      0.62       116\n",
      "          41       0.72      0.74      0.73        77\n",
      "          42       0.78      0.74      0.76        81\n",
      "           5       0.35      0.27      0.30       728\n",
      "           6       0.87      0.81      0.84       150\n",
      "           7       0.50      0.54      0.52       542\n",
      "           8       0.39      0.26      0.31       563\n",
      "           9       0.71      0.73      0.72       558\n",
      "\n",
      "    accuracy                           0.64     14628\n",
      "   macro avg       0.66      0.63      0.64     14628\n",
      "weighted avg       0.64      0.64      0.64     14628\n",
      "\n"
     ]
    }
   ],
   "source": [
    "y_pred = clf.predict(X_test_prepared)\n",
    "\n",
    "print(classification_report(y_test, y_pred))"
   ]
  },
  {
   "cell_type": "code",
   "execution_count": 2,
   "id": "a6956b6a",
   "metadata": {},
   "outputs": [
    {
     "name": "stdout",
     "output_type": "stream",
     "text": [
      "training_accuracy for C=10: 0.6648664353711268\n",
      "\n"
     ]
    }
   ],
   "source": [
    "# linear SVC\n",
    "from sklearn.svm import SVC\n",
    "import numpy as np\n",
    "from sklearn.metrics import accuracy_score,classification_report\n",
    "\n",
    "clf = SVC(kernel='linear', C=100)\n",
    "clf.fit(X_train_prepared, y_train)\n",
    "print(f'training_accuracy for C=100: {clf.score(X_train_prepared, y_train)}\\n')"
   ]
  },
  {
   "cell_type": "code",
   "execution_count": 3,
   "id": "032eb141",
   "metadata": {},
   "outputs": [
    {
     "data": {
      "text/plain": [
       "['linear_svc_100.joblib']"
      ]
     },
     "execution_count": 3,
     "metadata": {},
     "output_type": "execute_result"
    }
   ],
   "source": [
    "import joblib\n",
    "C=100\n",
    "outfile = f'linear_svc_{C}.joblib'\n",
    "joblib.dump(clf, outfile)"
   ]
  },
  {
   "cell_type": "code",
   "execution_count": 4,
   "id": "4a174a28",
   "metadata": {},
   "outputs": [
    {
     "name": "stdout",
     "output_type": "stream",
     "text": [
      "classification report for C=100: \n",
      "\n",
      "              precision    recall  f1-score   support\n",
      "\n",
      "           0       0.62      0.62      0.62        78\n",
      "           1       0.48      0.66      0.56       979\n",
      "          10       0.58      0.69      0.63       786\n",
      "          11       0.50      0.63      0.56       497\n",
      "          12       0.93      0.94      0.94       810\n",
      "          13       0.99      0.99      0.99       812\n",
      "          14       0.76      0.73      0.75       298\n",
      "          15       0.55      0.40      0.46       243\n",
      "          16       0.78      0.80      0.79       168\n",
      "          17       0.95      0.96      0.95       425\n",
      "          18       0.68      0.78      0.73       460\n",
      "          19       0.49      0.47      0.48        86\n",
      "           2       0.41      0.26      0.32       533\n",
      "          20       0.67      0.64      0.65       122\n",
      "          21       0.70      0.71      0.70       113\n",
      "          22       0.62      0.72      0.67       138\n",
      "          23       0.62      0.61      0.61       208\n",
      "          24       0.58      0.40      0.47        92\n",
      "          25       0.62      0.70      0.65       565\n",
      "          26       0.57      0.46      0.51       229\n",
      "          27       0.61      0.41      0.49        74\n",
      "          28       0.52      0.29      0.37       213\n",
      "          29       0.58      0.44      0.50        97\n",
      "           3       0.46      0.36      0.40       559\n",
      "          30       0.70      0.48      0.57       164\n",
      "          31       0.81      0.82      0.81       280\n",
      "          32       0.86      0.81      0.83        84\n",
      "          33       0.68      0.71      0.69       265\n",
      "          34       0.77      0.55      0.64       161\n",
      "          35       0.78      0.84      0.81       464\n",
      "          36       0.86      0.72      0.78       152\n",
      "          37       0.80      0.63      0.71        71\n",
      "          38       0.76      0.80      0.78       765\n",
      "          39       0.82      0.78      0.80       108\n",
      "           4       0.46      0.56      0.51       714\n",
      "          40       0.60      0.60      0.60       116\n",
      "          41       0.75      0.75      0.75        77\n",
      "          42       0.75      0.74      0.75        81\n",
      "           5       0.35      0.27      0.30       728\n",
      "           6       0.86      0.81      0.84       150\n",
      "           7       0.50      0.54      0.52       542\n",
      "           8       0.39      0.26      0.31       563\n",
      "           9       0.71      0.73      0.72       558\n",
      "\n",
      "    accuracy                           0.64     14628\n",
      "   macro avg       0.66      0.63      0.64     14628\n",
      "weighted avg       0.64      0.64      0.64     14628\n",
      "\n"
     ]
    }
   ],
   "source": [
    "y_preds = clf.predict(X_test_prepared)\n",
    "\n",
    "print(f'classification report for C=100: \\n')\n",
    "print(classification_report(y_test, y_preds))"
   ]
  },
  {
   "cell_type": "code",
   "execution_count": null,
   "id": "af210d32",
   "metadata": {},
   "outputs": [],
   "source": [
    "# linear SVC\n",
    "from sklearn.svm import SVC\n",
    "import numpy as np\n",
    "from sklearn.metrics import accuracy_score,classification_report\n",
    "\n",
    "clf = SVC(kernel='linear', C=1000)\n",
    "clf.fit(X_train_prepared, y_train)\n",
    "print(f'training_accuracy for C=1000: {clf.score(X_train_prepared, y_train)}\\n')"
   ]
  },
  {
   "cell_type": "code",
   "execution_count": null,
   "id": "09e37bd6",
   "metadata": {},
   "outputs": [],
   "source": [
    "import joblib\n",
    "\n",
    "outfile = f'linear_svc_1000.joblib'\n",
    "joblib.dump(clf, outfile)"
   ]
  },
  {
   "cell_type": "code",
   "execution_count": null,
   "id": "d5b345af",
   "metadata": {},
   "outputs": [],
   "source": [
    "y_preds = clf.predict(X_test_prepared)\n",
    "\n",
    "print(f'classification report for C=1000: \\n')\n",
    "print(classification_report(y_test, y_preds))"
   ]
  },
  {
   "cell_type": "code",
   "execution_count": null,
   "id": "ab0dec35",
   "metadata": {},
   "outputs": [],
   "source": [
    "# Since linear svc takes much longer time to train and did't perform very well compared to rbf and poly model, I will stop here."
   ]
  },
  {
   "cell_type": "code",
   "execution_count": null,
   "id": "8e2984db",
   "metadata": {},
   "outputs": [],
   "source": []
  }
 ],
 "metadata": {
  "kernelspec": {
   "display_name": "Python 3 (ipykernel)",
   "language": "python",
   "name": "python3"
  },
  "language_info": {
   "codemirror_mode": {
    "name": "ipython",
    "version": 3
   },
   "file_extension": ".py",
   "mimetype": "text/x-python",
   "name": "python",
   "nbconvert_exporter": "python",
   "pygments_lexer": "ipython3",
   "version": "3.9.13"
  }
 },
 "nbformat": 4,
 "nbformat_minor": 5
}
