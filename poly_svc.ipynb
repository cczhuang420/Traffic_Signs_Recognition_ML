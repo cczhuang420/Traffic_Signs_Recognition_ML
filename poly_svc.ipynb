{
 "cells": [
  {
   "cell_type": "markdown",
   "id": "cc811745",
   "metadata": {},
   "source": [
    "## Polynomial SVC for traffic signs classification"
   ]
  },
  {
   "cell_type": "code",
   "execution_count": 2,
   "id": "a698d98b",
   "metadata": {},
   "outputs": [],
   "source": [
    "import joblib\n",
    "X_train_prepared = joblib.load('x_train_prepared_data.joblib')\n",
    "X_test_prepared = joblib.load('x_test_prepared_data.joblib')\n",
    "y_test = joblib.load('y_test_data.joblib')\n",
    "y_train = joblib.load('y_train_data.joblib')\n"
   ]
  },
  {
   "cell_type": "code",
   "execution_count": 4,
   "id": "61c7d624",
   "metadata": {},
   "outputs": [
    {
     "name": "stdout",
     "output_type": "stream",
     "text": [
      "training_accuracy for C=100: 0.9528464733127104\n",
      "\n"
     ]
    }
   ],
   "source": [
    "# implement polynomial SVC\n",
    "from sklearn.svm import SVC\n",
    "import numpy as np\n",
    "from sklearn.model_selection import GridSearchCV, RandomizedSearchCV\n",
    "from sklearn.metrics import accuracy_score,classification_report\n",
    "clf = SVC(kernel='poly', C=100, degree=2, gamma=0.1)\n",
    "clf.fit(X_train_prepared, y_train)\n",
    "print(f'training_accuracy for C=100: {clf.score(X_train_prepared, y_train)}\\n')"
   ]
  },
  {
   "cell_type": "code",
   "execution_count": 5,
   "id": "4eaeebcc",
   "metadata": {},
   "outputs": [
    {
     "data": {
      "text/plain": [
       "['poly_svc_100.joblib']"
      ]
     },
     "execution_count": 5,
     "metadata": {},
     "output_type": "execute_result"
    }
   ],
   "source": [
    "import joblib\n",
    "C=100\n",
    "outfile = f'poly_svc_{C}.joblib'\n",
    "joblib.dump(clf, outfile)"
   ]
  },
  {
   "cell_type": "code",
   "execution_count": 6,
   "id": "9772be48",
   "metadata": {},
   "outputs": [
    {
     "name": "stdout",
     "output_type": "stream",
     "text": [
      "classification report for C=100, degree=2, gamma=0.1: \n",
      "\n",
      "              precision    recall  f1-score   support\n",
      "\n",
      "           0       0.80      0.85      0.82        78\n",
      "           1       0.71      0.77      0.74       979\n",
      "          10       0.76      0.81      0.78       786\n",
      "          11       0.70      0.82      0.76       497\n",
      "          12       0.95      0.96      0.95       810\n",
      "          13       0.99      0.99      0.99       812\n",
      "          14       0.84      0.89      0.86       298\n",
      "          15       0.76      0.77      0.77       243\n",
      "          16       0.88      0.93      0.91       168\n",
      "          17       0.97      0.98      0.97       425\n",
      "          18       0.88      0.87      0.87       460\n",
      "          19       0.78      0.76      0.77        86\n",
      "           2       0.53      0.49      0.51       533\n",
      "          20       0.78      0.83      0.80       122\n",
      "          21       0.92      0.92      0.92       113\n",
      "          22       0.81      0.85      0.83       138\n",
      "          23       0.88      0.85      0.87       208\n",
      "          24       0.84      0.86      0.85        92\n",
      "          25       0.81      0.76      0.79       565\n",
      "          26       0.82      0.77      0.80       229\n",
      "          27       0.77      0.78      0.78        74\n",
      "          28       0.73      0.65      0.69       213\n",
      "          29       0.84      0.84      0.84        97\n",
      "           3       0.64      0.67      0.66       559\n",
      "          30       0.89      0.77      0.82       164\n",
      "          31       0.91      0.94      0.92       280\n",
      "          32       0.94      0.94      0.94        84\n",
      "          33       0.86      0.86      0.86       265\n",
      "          34       0.86      0.86      0.86       161\n",
      "          35       0.89      0.91      0.90       464\n",
      "          36       0.92      0.89      0.91       152\n",
      "          37       0.89      0.94      0.92        71\n",
      "          38       0.88      0.91      0.89       765\n",
      "          39       0.96      0.96      0.96       108\n",
      "           4       0.66      0.64      0.65       714\n",
      "          40       0.84      0.84      0.84       116\n",
      "          41       0.94      0.94      0.94        77\n",
      "          42       0.89      0.94      0.92        81\n",
      "           5       0.59      0.55      0.57       728\n",
      "           6       0.97      0.94      0.96       150\n",
      "           7       0.70      0.65      0.67       542\n",
      "           8       0.65      0.56      0.60       563\n",
      "           9       0.90      0.85      0.87       558\n",
      "\n",
      "    accuracy                           0.80     14628\n",
      "   macro avg       0.83      0.83      0.83     14628\n",
      "weighted avg       0.80      0.80      0.80     14628\n",
      "\n"
     ]
    }
   ],
   "source": [
    "y_preds = clf.predict(X_test_prepared)\n",
    "\n",
    "print(f'classification report for C=100, degree=2, gamma=0.1: \\n')\n",
    "print(classification_report(y_test, y_preds))"
   ]
  },
  {
   "cell_type": "code",
   "execution_count": 7,
   "id": "6402628b",
   "metadata": {},
   "outputs": [
    {
     "name": "stdout",
     "output_type": "stream",
     "text": [
      "training_accuracy for C=100: 1.0\n",
      "\n"
     ]
    }
   ],
   "source": [
    "# try another paramters for polynomial SVC\n",
    "from sklearn.svm import SVC\n",
    "import numpy as np\n",
    "from sklearn.model_selection import GridSearchCV, RandomizedSearchCV\n",
    "from sklearn.metrics import accuracy_score,classification_report\n",
    "clf = SVC(kernel='poly', C=100, degree=3, gamma=0.1)\n",
    "clf.fit(X_train_prepared, y_train)\n",
    "print(f'training_accuracy for C=100: {clf.score(X_train_prepared, y_train)}\\n')"
   ]
  },
  {
   "cell_type": "code",
   "execution_count": 8,
   "id": "8f5cc4e0",
   "metadata": {},
   "outputs": [
    {
     "data": {
      "text/plain": [
       "['poly_svc_C100_degree3.joblib']"
      ]
     },
     "execution_count": 8,
     "metadata": {},
     "output_type": "execute_result"
    }
   ],
   "source": [
    "import joblib\n",
    "\n",
    "outfile = f'poly_svc_C100_degree3.joblib'\n",
    "joblib.dump(clf, outfile)"
   ]
  },
  {
   "cell_type": "code",
   "execution_count": 9,
   "id": "a470e677",
   "metadata": {},
   "outputs": [
    {
     "name": "stdout",
     "output_type": "stream",
     "text": [
      "classification report for C=100, degree=3, gamma=0.1: \n",
      "\n",
      "              precision    recall  f1-score   support\n",
      "\n",
      "           0       0.80      0.95      0.87        78\n",
      "           1       0.78      0.84      0.81       979\n",
      "          10       0.81      0.87      0.84       786\n",
      "          11       0.77      0.87      0.82       497\n",
      "          12       0.98      0.98      0.98       810\n",
      "          13       0.99      1.00      0.99       812\n",
      "          14       0.87      0.91      0.89       298\n",
      "          15       0.79      0.84      0.81       243\n",
      "          16       0.92      0.95      0.93       168\n",
      "          17       0.96      0.99      0.97       425\n",
      "          18       0.90      0.90      0.90       460\n",
      "          19       0.83      0.73      0.78        86\n",
      "           2       0.61      0.53      0.57       533\n",
      "          20       0.85      0.84      0.84       122\n",
      "          21       0.91      0.94      0.92       113\n",
      "          22       0.88      0.89      0.88       138\n",
      "          23       0.92      0.88      0.90       208\n",
      "          24       0.87      0.88      0.88        92\n",
      "          25       0.86      0.85      0.85       565\n",
      "          26       0.86      0.80      0.83       229\n",
      "          27       0.82      0.84      0.83        74\n",
      "          28       0.86      0.83      0.85       213\n",
      "          29       0.94      0.82      0.88        97\n",
      "           3       0.72      0.75      0.74       559\n",
      "          30       0.94      0.81      0.87       164\n",
      "          31       0.91      0.96      0.94       280\n",
      "          32       0.96      0.92      0.94        84\n",
      "          33       0.91      0.90      0.90       265\n",
      "          34       0.91      0.91      0.91       161\n",
      "          35       0.93      0.95      0.94       464\n",
      "          36       0.98      0.90      0.94       152\n",
      "          37       0.96      0.96      0.96        71\n",
      "          38       0.95      0.93      0.94       765\n",
      "          39       0.95      0.98      0.97       108\n",
      "           4       0.77      0.77      0.77       714\n",
      "          40       0.88      0.93      0.90       116\n",
      "          41       0.96      0.97      0.97        77\n",
      "          42       0.88      0.93      0.90        81\n",
      "           5       0.70      0.64      0.67       728\n",
      "           6       0.96      0.97      0.96       150\n",
      "           7       0.77      0.73      0.75       542\n",
      "           8       0.76      0.68      0.72       563\n",
      "           9       0.91      0.91      0.91       558\n",
      "\n",
      "    accuracy                           0.85     14628\n",
      "   macro avg       0.87      0.87      0.87     14628\n",
      "weighted avg       0.85      0.85      0.85     14628\n",
      "\n"
     ]
    }
   ],
   "source": [
    "y_preds = clf.predict(X_test_prepared)\n",
    "\n",
    "print('classification report for C=100, degree=3, gamma=0.1: \\n')\n",
    "print(classification_report(y_test, y_preds))"
   ]
  },
  {
   "cell_type": "code",
   "execution_count": 10,
   "id": "b507392a",
   "metadata": {},
   "outputs": [
    {
     "name": "stdout",
     "output_type": "stream",
     "text": [
      "training_accuracy for C=100: 1.0\n",
      "\n"
     ]
    }
   ],
   "source": [
    "# try another paramters for polynomial SVC\n",
    "from sklearn.svm import SVC\n",
    "import numpy as np\n",
    "from sklearn.model_selection import GridSearchCV, RandomizedSearchCV\n",
    "from sklearn.metrics import accuracy_score,classification_report\n",
    "clf = SVC(kernel='poly', C=100, degree=5, gamma=0.1)\n",
    "clf.fit(X_train_prepared, y_train)\n",
    "print(f'training_accuracy for C=100: {clf.score(X_train_prepared, y_train)}\\n')"
   ]
  },
  {
   "cell_type": "code",
   "execution_count": 11,
   "id": "08cf1afc",
   "metadata": {},
   "outputs": [
    {
     "data": {
      "text/plain": [
       "['poly_svc_C100_degree5.joblib']"
      ]
     },
     "execution_count": 11,
     "metadata": {},
     "output_type": "execute_result"
    }
   ],
   "source": [
    "import joblib\n",
    "\n",
    "outfile = f'poly_svc_C100_degree5.joblib'\n",
    "joblib.dump(clf, outfile)"
   ]
  },
  {
   "cell_type": "code",
   "execution_count": 13,
   "id": "0af5276f",
   "metadata": {},
   "outputs": [
    {
     "name": "stdout",
     "output_type": "stream",
     "text": [
      "classification report for C=100, degree=5, gamma=0.1: \n",
      "\n",
      "              precision    recall  f1-score   support\n",
      "\n",
      "           0       0.80      0.91      0.85        78\n",
      "           1       0.80      0.87      0.83       979\n",
      "          10       0.82      0.87      0.85       786\n",
      "          11       0.80      0.89      0.84       497\n",
      "          12       0.97      0.98      0.97       810\n",
      "          13       0.99      0.99      0.99       812\n",
      "          14       0.86      0.92      0.89       298\n",
      "          15       0.81      0.79      0.80       243\n",
      "          16       0.91      0.94      0.92       168\n",
      "          17       0.96      0.98      0.97       425\n",
      "          18       0.88      0.93      0.90       460\n",
      "          19       0.81      0.72      0.76        86\n",
      "           2       0.65      0.61      0.63       533\n",
      "          20       0.77      0.80      0.79       122\n",
      "          21       0.91      0.93      0.92       113\n",
      "          22       0.83      0.90      0.86       138\n",
      "          23       0.92      0.85      0.88       208\n",
      "          24       0.84      0.88      0.86        92\n",
      "          25       0.86      0.86      0.86       565\n",
      "          26       0.87      0.76      0.81       229\n",
      "          27       0.83      0.84      0.83        74\n",
      "          28       0.88      0.83      0.86       213\n",
      "          29       0.88      0.84      0.86        97\n",
      "           3       0.73      0.75      0.74       559\n",
      "          30       0.93      0.83      0.88       164\n",
      "          31       0.93      0.95      0.94       280\n",
      "          32       0.96      0.90      0.93        84\n",
      "          33       0.89      0.86      0.87       265\n",
      "          34       0.93      0.89      0.91       161\n",
      "          35       0.94      0.92      0.93       464\n",
      "          36       0.98      0.88      0.93       152\n",
      "          37       0.92      0.92      0.92        71\n",
      "          38       0.96      0.89      0.93       765\n",
      "          39       0.95      0.94      0.95       108\n",
      "           4       0.76      0.80      0.78       714\n",
      "          40       0.82      0.91      0.86       116\n",
      "          41       0.95      0.94      0.94        77\n",
      "          42       0.89      0.95      0.92        81\n",
      "           5       0.73      0.66      0.70       728\n",
      "           6       0.93      0.93      0.93       150\n",
      "           7       0.77      0.77      0.77       542\n",
      "           8       0.79      0.70      0.74       563\n",
      "           9       0.91      0.89      0.90       558\n",
      "\n",
      "    accuracy                           0.85     14628\n",
      "   macro avg       0.87      0.86      0.86     14628\n",
      "weighted avg       0.85      0.85      0.85     14628\n",
      "\n"
     ]
    }
   ],
   "source": [
    "y_preds = clf.predict(X_test_prepared)\n",
    "\n",
    "print('classification report for C=100, degree=5, gamma=0.1: \\n')\n",
    "print(classification_report(y_test, y_preds))"
   ]
  },
  {
   "cell_type": "code",
   "execution_count": 14,
   "id": "2a647d2f",
   "metadata": {},
   "outputs": [
    {
     "name": "stdout",
     "output_type": "stream",
     "text": [
      "training_accuracy for C=100: 1.0\n",
      "\n"
     ]
    }
   ],
   "source": [
    "# try another paramters for polynomial SVC\n",
    "from sklearn.svm import SVC\n",
    "import numpy as np\n",
    "from sklearn.model_selection import GridSearchCV, RandomizedSearchCV\n",
    "from sklearn.metrics import accuracy_score,classification_report\n",
    "clf = SVC(kernel='poly', C=100, degree=10, gamma=0.5)\n",
    "clf.fit(X_train_prepared, y_train)\n",
    "print(f'training_accuracy for C=100: {clf.score(X_train_prepared, y_train)}\\n')"
   ]
  },
  {
   "cell_type": "code",
   "execution_count": 15,
   "id": "cb23d18c",
   "metadata": {},
   "outputs": [
    {
     "data": {
      "text/plain": [
       "['poly_svc_C100_degree10.joblib']"
      ]
     },
     "execution_count": 15,
     "metadata": {},
     "output_type": "execute_result"
    }
   ],
   "source": [
    "import joblib\n",
    "\n",
    "outfile = f'poly_svc_C100_degree10.joblib'\n",
    "joblib.dump(clf, outfile)"
   ]
  },
  {
   "cell_type": "code",
   "execution_count": 16,
   "id": "e3c8be45",
   "metadata": {},
   "outputs": [
    {
     "name": "stdout",
     "output_type": "stream",
     "text": [
      "classification report for C=100, degree=10, gamma=0.5: \n",
      "\n",
      "              precision    recall  f1-score   support\n",
      "\n",
      "           0       0.48      0.63      0.54        78\n",
      "           1       0.73      0.71      0.72       979\n",
      "          10       0.80      0.77      0.78       786\n",
      "          11       0.74      0.79      0.77       497\n",
      "          12       0.87      0.87      0.87       810\n",
      "          13       0.97      0.96      0.96       812\n",
      "          14       0.24      0.83      0.37       298\n",
      "          15       0.58      0.67      0.62       243\n",
      "          16       0.72      0.88      0.79       168\n",
      "          17       0.95      0.93      0.94       425\n",
      "          18       0.79      0.87      0.83       460\n",
      "          19       0.62      0.65      0.63        86\n",
      "           2       0.50      0.44      0.47       533\n",
      "          20       0.52      0.68      0.59       122\n",
      "          21       0.77      0.88      0.82       113\n",
      "          22       0.68      0.85      0.75       138\n",
      "          23       0.88      0.72      0.79       208\n",
      "          24       0.75      0.79      0.77        92\n",
      "          25       0.81      0.77      0.79       565\n",
      "          26       0.79      0.69      0.74       229\n",
      "          27       0.70      0.81      0.75        74\n",
      "          28       0.82      0.74      0.78       213\n",
      "          29       0.64      0.80      0.71        97\n",
      "           3       0.71      0.58      0.64       559\n",
      "          30       0.76      0.80      0.78       164\n",
      "          31       0.90      0.89      0.89       280\n",
      "          32       0.89      0.86      0.87        84\n",
      "          33       0.84      0.62      0.71       265\n",
      "          34       0.81      0.71      0.75       161\n",
      "          35       0.88      0.76      0.82       464\n",
      "          36       0.80      0.72      0.76       152\n",
      "          37       0.65      0.70      0.68        71\n",
      "          38       0.96      0.67      0.79       765\n",
      "          39       0.78      0.84      0.81       108\n",
      "           4       0.73      0.67      0.70       714\n",
      "          40       0.70      0.73      0.71       116\n",
      "          41       0.82      0.81      0.81        77\n",
      "          42       0.67      0.81      0.73        81\n",
      "           5       0.67      0.55      0.60       728\n",
      "           6       0.77      0.82      0.80       150\n",
      "           7       0.71      0.67      0.69       542\n",
      "           8       0.75      0.61      0.67       563\n",
      "           9       0.84      0.80      0.82       558\n",
      "\n",
      "    accuracy                           0.74     14628\n",
      "   macro avg       0.74      0.75      0.74     14628\n",
      "weighted avg       0.77      0.74      0.75     14628\n",
      "\n"
     ]
    }
   ],
   "source": [
    "y_preds = clf.predict(X_test_prepared)\n",
    "\n",
    "print('classification report for C=100, degree=10, gamma=0.5: \\n')\n",
    "print(classification_report(y_test, y_preds))"
   ]
  },
  {
   "cell_type": "code",
   "execution_count": 17,
   "id": "e3cefabd",
   "metadata": {},
   "outputs": [
    {
     "name": "stdout",
     "output_type": "stream",
     "text": [
      "training_accuracy for C=100: 1.0\n",
      "\n"
     ]
    }
   ],
   "source": [
    "# try another paramters for polynomial SVC\n",
    "from sklearn.svm import SVC\n",
    "import numpy as np\n",
    "from sklearn.model_selection import GridSearchCV, RandomizedSearchCV\n",
    "from sklearn.metrics import accuracy_score,classification_report\n",
    "clf = SVC(kernel='poly', C=1000, degree=3, gamma=0.1)\n",
    "clf.fit(X_train_prepared, y_train)\n",
    "print(f'training_accuracy for C=100: {clf.score(X_train_prepared, y_train)}\\n')"
   ]
  },
  {
   "cell_type": "code",
   "execution_count": 18,
   "id": "bc409711",
   "metadata": {},
   "outputs": [
    {
     "data": {
      "text/plain": [
       "['poly_svc_C1000_degree3.joblib']"
      ]
     },
     "execution_count": 18,
     "metadata": {},
     "output_type": "execute_result"
    }
   ],
   "source": [
    "import joblib\n",
    "\n",
    "outfile = f'poly_svc_C1000_degree3.joblib'\n",
    "joblib.dump(clf, outfile)"
   ]
  },
  {
   "cell_type": "code",
   "execution_count": 19,
   "id": "1feb4fba",
   "metadata": {},
   "outputs": [
    {
     "name": "stdout",
     "output_type": "stream",
     "text": [
      "classification report for C=1000, degree=3, gamma=0.1: \n",
      "\n",
      "              precision    recall  f1-score   support\n",
      "\n",
      "           0       0.80      0.95      0.87        78\n",
      "           1       0.78      0.84      0.81       979\n",
      "          10       0.81      0.87      0.84       786\n",
      "          11       0.77      0.87      0.82       497\n",
      "          12       0.98      0.98      0.98       810\n",
      "          13       0.99      1.00      0.99       812\n",
      "          14       0.87      0.91      0.89       298\n",
      "          15       0.79      0.84      0.81       243\n",
      "          16       0.92      0.95      0.93       168\n",
      "          17       0.96      0.99      0.97       425\n",
      "          18       0.90      0.90      0.90       460\n",
      "          19       0.83      0.73      0.78        86\n",
      "           2       0.61      0.53      0.57       533\n",
      "          20       0.85      0.84      0.84       122\n",
      "          21       0.91      0.94      0.92       113\n",
      "          22       0.88      0.89      0.88       138\n",
      "          23       0.92      0.88      0.90       208\n",
      "          24       0.87      0.88      0.88        92\n",
      "          25       0.86      0.85      0.85       565\n",
      "          26       0.86      0.80      0.83       229\n",
      "          27       0.82      0.84      0.83        74\n",
      "          28       0.86      0.83      0.85       213\n",
      "          29       0.94      0.82      0.88        97\n",
      "           3       0.72      0.75      0.74       559\n",
      "          30       0.94      0.81      0.87       164\n",
      "          31       0.91      0.96      0.94       280\n",
      "          32       0.96      0.92      0.94        84\n",
      "          33       0.91      0.90      0.90       265\n",
      "          34       0.91      0.91      0.91       161\n",
      "          35       0.93      0.95      0.94       464\n",
      "          36       0.98      0.90      0.94       152\n",
      "          37       0.96      0.96      0.96        71\n",
      "          38       0.95      0.93      0.94       765\n",
      "          39       0.95      0.98      0.97       108\n",
      "           4       0.77      0.77      0.77       714\n",
      "          40       0.88      0.93      0.90       116\n",
      "          41       0.96      0.97      0.97        77\n",
      "          42       0.88      0.93      0.90        81\n",
      "           5       0.70      0.64      0.67       728\n",
      "           6       0.96      0.97      0.96       150\n",
      "           7       0.77      0.73      0.75       542\n",
      "           8       0.76      0.68      0.72       563\n",
      "           9       0.91      0.91      0.91       558\n",
      "\n",
      "    accuracy                           0.85     14628\n",
      "   macro avg       0.87      0.87      0.87     14628\n",
      "weighted avg       0.85      0.85      0.85     14628\n",
      "\n"
     ]
    }
   ],
   "source": [
    "y_preds = clf.predict(X_test_prepared)\n",
    "\n",
    "print('classification report for C=1000, degree=3, gamma=0.1: \\n')\n",
    "print(classification_report(y_test, y_preds))"
   ]
  },
  {
   "cell_type": "code",
   "execution_count": null,
   "id": "62801d36",
   "metadata": {},
   "outputs": [],
   "source": [
    "# the best accuray stop at 0.85, so I will stop here."
   ]
  }
 ],
 "metadata": {
  "kernelspec": {
   "display_name": "Python 3 (ipykernel)",
   "language": "python",
   "name": "python3"
  },
  "language_info": {
   "codemirror_mode": {
    "name": "ipython",
    "version": 3
   },
   "file_extension": ".py",
   "mimetype": "text/x-python",
   "name": "python",
   "nbconvert_exporter": "python",
   "pygments_lexer": "ipython3",
   "version": "3.9.13"
  }
 },
 "nbformat": 4,
 "nbformat_minor": 5
}
