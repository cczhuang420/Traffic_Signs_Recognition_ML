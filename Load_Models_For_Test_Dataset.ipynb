{
 "cells": [
  {
   "cell_type": "markdown",
   "id": "b66c2c43",
   "metadata": {},
   "source": [
    "## 1. The Best MLP Model for this project is the tensorflow sequential layers.\n",
    "\n",
    "This model is saved as `MLPTensorflow_sequential_9.joblib`\n",
    "\n",
    "#### To load this model and predict the test dataset:"
   ]
  },
  {
   "cell_type": "code",
   "execution_count": 1,
   "id": "9e4d9fd0",
   "metadata": {},
   "outputs": [],
   "source": [
    "# test on the saved test dataset for tensorflow\n",
    "import joblib\n",
    "\n",
    "X_test = joblib.load('x_test_data_ts.joblib')\n",
    "y_test = joblib.load('y_test_data_ts.joblib')"
   ]
  },
  {
   "cell_type": "code",
   "execution_count": 2,
   "id": "d097c3bb",
   "metadata": {},
   "outputs": [
    {
     "name": "stdout",
     "output_type": "stream",
     "text": [
      "458/458 [==============================] - 1s 1ms/step\n",
      "              precision    recall  f1-score   support\n",
      "\n",
      "           0       0.96      0.90      0.93        78\n",
      "           1       0.95      0.98      0.97       979\n",
      "           2       0.94      0.92      0.93       533\n",
      "           3       0.86      0.96      0.91       559\n",
      "           4       0.95      0.98      0.96       714\n",
      "           5       0.95      0.92      0.93       728\n",
      "           6       0.97      0.99      0.98       150\n",
      "           7       0.98      0.94      0.96       542\n",
      "           8       0.92      0.98      0.95       563\n",
      "           9       1.00      0.95      0.97       558\n",
      "          10       0.98      0.98      0.98       786\n",
      "          11       0.98      0.95      0.97       497\n",
      "          12       0.98      0.96      0.97       810\n",
      "          13       1.00      0.97      0.98       812\n",
      "          14       0.98      1.00      0.99       298\n",
      "          15       0.92      0.97      0.94       243\n",
      "          16       1.00      1.00      1.00       168\n",
      "          17       1.00      0.98      0.99       425\n",
      "          18       0.98      0.93      0.96       460\n",
      "          19       0.98      0.95      0.96        86\n",
      "          20       0.89      0.95      0.92       122\n",
      "          21       0.95      0.93      0.94       113\n",
      "          22       0.99      0.98      0.99       138\n",
      "          23       0.99      0.85      0.91       208\n",
      "          24       0.98      0.98      0.98        92\n",
      "          25       0.98      0.99      0.98       565\n",
      "          26       0.92      0.93      0.92       229\n",
      "          27       1.00      0.96      0.98        74\n",
      "          28       0.95      0.98      0.96       213\n",
      "          29       0.89      0.97      0.93        97\n",
      "          30       0.91      0.96      0.94       164\n",
      "          31       0.99      0.96      0.97       280\n",
      "          32       0.94      0.88      0.91        84\n",
      "          33       0.97      0.99      0.98       265\n",
      "          34       0.99      0.97      0.98       161\n",
      "          35       0.99      0.99      0.99       464\n",
      "          36       0.93      0.98      0.96       152\n",
      "          37       0.99      0.97      0.98        71\n",
      "          38       0.99      0.98      0.98       765\n",
      "          39       0.99      1.00      1.00       108\n",
      "          40       0.96      0.99      0.97       116\n",
      "          41       0.97      0.95      0.96        77\n",
      "          42       0.99      1.00      0.99        81\n",
      "\n",
      "    accuracy                           0.96     14628\n",
      "   macro avg       0.96      0.96      0.96     14628\n",
      "weighted avg       0.96      0.96      0.96     14628\n",
      "\n"
     ]
    }
   ],
   "source": [
    "import os\n",
    "os.environ['TF_CPP_MIN_LOG_LEVEL'] = '2'\n",
    "\n",
    "import numpy as np\n",
    "\n",
    "ts_model_load = joblib.load(\"MLPTensorflow_sequential_9.joblib\")\n",
    "from sklearn.metrics import classification_report\n",
    "y_pred_load = np.argmax(ts_model_load.predict(X_test), axis=-1)\n",
    "\n",
    "print(classification_report(y_test, y_pred_load))"
   ]
  },
  {
   "cell_type": "code",
   "execution_count": 10,
   "id": "993b555f",
   "metadata": {},
   "outputs": [
    {
     "name": "stdout",
     "output_type": "stream",
     "text": [
      "accuracy: 0.9635630298058518\n",
      "precision: 0.9635630298058518\n",
      "recall: 0.9635630298058518\n",
      "f1_score: 0.9635630298058518\n"
     ]
    }
   ],
   "source": [
    "from sklearn.metrics import f1_score, recall_score, precision_score, accuracy_score\n",
    "print(f'accuracy: {accuracy_score(y_test, y_pred_load)}')\n",
    "precision = precision_score(y_test, y_pred_load, average='micro')\n",
    "print(f'precision: {precision}')\n",
    "recall = recall_score(y_test, y_pred_load, average='micro')\n",
    "print(f'recall: {recall}')\n",
    "f1 = f1_score(y_test, y_pred_load, average='micro')\n",
    "print(f'f1_score: {f1}')\n"
   ]
  },
  {
   "cell_type": "markdown",
   "id": "955f97ea",
   "metadata": {},
   "source": [
    "## 2. The best accuracy found for scitkit learn MLPClassifier\n",
    "\n",
    "This model is saved as `MLPClassifier-learnrate-0.0003-maxiter-1000.joblib`\n",
    "\n",
    "#### To load this model and predict the test dataset:"
   ]
  },
  {
   "cell_type": "code",
   "execution_count": 7,
   "id": "0df20eeb",
   "metadata": {},
   "outputs": [],
   "source": [
    "# import the test dataset \n",
    "X_test_prepared = joblib.load('x_test_prepared_data.joblib')\n",
    "y_test = joblib.load('y_test_data.joblib')"
   ]
  },
  {
   "cell_type": "code",
   "execution_count": 9,
   "id": "c81b8f76",
   "metadata": {},
   "outputs": [],
   "source": [
    "import joblib\n",
    "model_load = joblib.load(\"MLPClassifier-learnrate-0.0003-maxiter-1000.joblib\")"
   ]
  },
  {
   "cell_type": "code",
   "execution_count": 11,
   "id": "76495c6d",
   "metadata": {},
   "outputs": [
    {
     "name": "stdout",
     "output_type": "stream",
     "text": [
      "              precision    recall  f1-score   support\n",
      "\n",
      "           0       0.66      0.73      0.69        78\n",
      "           1       0.64      0.68      0.66       979\n",
      "          10       0.73      0.80      0.76       786\n",
      "          11       0.63      0.72      0.67       497\n",
      "          12       0.95      0.93      0.94       810\n",
      "          13       0.99      0.99      0.99       812\n",
      "          14       0.80      0.79      0.79       298\n",
      "          15       0.66      0.60      0.63       243\n",
      "          16       0.89      0.91      0.90       168\n",
      "          17       0.94      0.96      0.95       425\n",
      "          18       0.82      0.75      0.78       460\n",
      "          19       0.74      0.60      0.67        86\n",
      "           2       0.52      0.39      0.45       533\n",
      "          20       0.76      0.68      0.72       122\n",
      "          21       0.79      0.81      0.80       113\n",
      "          22       0.68      0.78      0.73       138\n",
      "          23       0.72      0.62      0.67       208\n",
      "          24       0.65      0.68      0.67        92\n",
      "          25       0.70      0.72      0.71       565\n",
      "          26       0.72      0.71      0.72       229\n",
      "          27       0.56      0.66      0.61        74\n",
      "          28       0.62      0.58      0.60       213\n",
      "          29       0.70      0.69      0.69        97\n",
      "           3       0.61      0.57      0.59       559\n",
      "          30       0.73      0.63      0.68       164\n",
      "          31       0.83      0.89      0.86       280\n",
      "          32       0.90      0.87      0.88        84\n",
      "          33       0.78      0.82      0.80       265\n",
      "          34       0.76      0.72      0.74       161\n",
      "          35       0.82      0.86      0.84       464\n",
      "          36       0.89      0.81      0.85       152\n",
      "          37       0.76      0.85      0.80        71\n",
      "          38       0.85      0.86      0.85       765\n",
      "          39       0.83      0.88      0.86       108\n",
      "           4       0.61      0.68      0.64       714\n",
      "          40       0.59      0.76      0.67       116\n",
      "          41       0.79      0.82      0.80        77\n",
      "          42       0.80      0.81      0.81        81\n",
      "           5       0.53      0.44      0.48       728\n",
      "           6       0.87      0.89      0.88       150\n",
      "           7       0.60      0.65      0.63       542\n",
      "           8       0.58      0.56      0.57       563\n",
      "           9       0.78      0.79      0.79       558\n",
      "\n",
      "    accuracy                           0.74     14628\n",
      "   macro avg       0.74      0.74      0.74     14628\n",
      "weighted avg       0.73      0.74      0.73     14628\n",
      "\n"
     ]
    }
   ],
   "source": [
    "y_pred_load = model_load.predict(X_test_prepared)\n",
    "print(classification_report(y_test, y_pred_load))"
   ]
  },
  {
   "cell_type": "markdown",
   "id": "ab7b3dbd",
   "metadata": {},
   "source": [
    "## 3. The best accuracy found for SVC\n",
    "\n",
    "This model is saved as `rbf_svc_10000_gamma0.1.joblib`\n",
    "\n",
    "#### To load this model and predict the test dataset:"
   ]
  },
  {
   "cell_type": "code",
   "execution_count": 11,
   "id": "6fb9b9fc",
   "metadata": {},
   "outputs": [],
   "source": [
    "# import the test dataset \n",
    "X_test_prepared = joblib.load('x_test_prepared_data.joblib')\n",
    "y_test = joblib.load('y_test_data.joblib')"
   ]
  },
  {
   "cell_type": "code",
   "execution_count": 12,
   "id": "3486ec15",
   "metadata": {},
   "outputs": [],
   "source": [
    "import joblib\n",
    "rbf_model_load = joblib.load(\"rbf_svc_10000_gamma0.1.joblib\")"
   ]
  },
  {
   "cell_type": "code",
   "execution_count": 13,
   "id": "59614457",
   "metadata": {},
   "outputs": [
    {
     "name": "stdout",
     "output_type": "stream",
     "text": [
      "[ True  True  True ...  True  True  True]\n",
      "classification report for C=10000 and gamma=0.1: \n",
      "\n",
      "              precision    recall  f1-score   support\n",
      "\n",
      "           0       0.94      0.94      0.94        78\n",
      "           1       0.85      0.91      0.88       979\n",
      "          10       0.87      0.94      0.90       786\n",
      "          11       0.86      0.94      0.90       497\n",
      "          12       0.96      0.99      0.98       810\n",
      "          13       0.99      1.00      0.99       812\n",
      "          14       0.93      0.94      0.94       298\n",
      "          15       0.89      0.87      0.88       243\n",
      "          16       0.96      0.94      0.95       168\n",
      "          17       0.98      0.99      0.98       425\n",
      "          18       0.91      0.93      0.92       460\n",
      "          19       0.90      0.81      0.85        86\n",
      "           2       0.74      0.64      0.69       533\n",
      "          20       0.92      0.85      0.89       122\n",
      "          21       0.96      0.95      0.96       113\n",
      "          22       0.97      0.90      0.93       138\n",
      "          23       0.97      0.94      0.95       208\n",
      "          24       0.95      0.89      0.92        92\n",
      "          25       0.88      0.93      0.90       565\n",
      "          26       0.94      0.83      0.88       229\n",
      "          27       0.88      0.86      0.87        74\n",
      "          28       0.94      0.88      0.91       213\n",
      "          29       0.99      0.91      0.95        97\n",
      "           3       0.82      0.79      0.80       559\n",
      "          30       1.00      0.85      0.92       164\n",
      "          31       0.95      0.97      0.96       280\n",
      "          32       1.00      0.90      0.95        84\n",
      "          33       0.97      0.92      0.95       265\n",
      "          34       0.98      0.94      0.96       161\n",
      "          35       0.97      0.96      0.96       464\n",
      "          36       0.99      0.91      0.95       152\n",
      "          37       1.00      0.99      0.99        71\n",
      "          38       0.92      0.98      0.95       765\n",
      "          39       1.00      0.98      0.99       108\n",
      "           4       0.82      0.87      0.85       714\n",
      "          40       0.96      0.95      0.96       116\n",
      "          41       1.00      0.95      0.97        77\n",
      "          42       1.00      0.95      0.97        81\n",
      "           5       0.75      0.75      0.75       728\n",
      "           6       0.99      0.98      0.99       150\n",
      "           7       0.82      0.79      0.81       542\n",
      "           8       0.84      0.77      0.80       563\n",
      "           9       0.96      0.94      0.95       558\n",
      "\n",
      "    accuracy                           0.90     14628\n",
      "   macro avg       0.93      0.91      0.92     14628\n",
      "weighted avg       0.90      0.90      0.90     14628\n",
      "\n"
     ]
    }
   ],
   "source": [
    "# rbf classifier took longer to train and test\n",
    "y_preds = rbf_model_load.predict(X_test_prepared)\n",
    "print(np.array(y_preds==y_test))\n",
    "\n",
    "print(f'classification report for C=10000 and gamma=0.1: \\n')\n",
    "print(classification_report(y_test, y_preds))"
   ]
  },
  {
   "cell_type": "code",
   "execution_count": 14,
   "id": "95d248d8",
   "metadata": {},
   "outputs": [
    {
     "name": "stdout",
     "output_type": "stream",
     "text": [
      "accuracy: 0.8994394312277824\n",
      "precision: 0.8994394312277824\n",
      "recall: 0.8994394312277824\n",
      "f1_score: 0.8994394312277824\n"
     ]
    }
   ],
   "source": [
    "from sklearn.metrics import f1_score, recall_score, precision_score, accuracy_score\n",
    "print(f'accuracy: {accuracy_score(y_test, y_preds)}')\n",
    "precision = precision_score(y_test, y_preds, average='micro')\n",
    "print(f'precision: {precision}')\n",
    "recall = recall_score(y_test, y_preds, average='micro')\n",
    "print(f'recall: {recall}')\n",
    "f1 = f1_score(y_test, y_preds, average='micro')\n",
    "print(f'f1_score: {f1}')"
   ]
  },
  {
   "cell_type": "code",
   "execution_count": null,
   "id": "d7c4480d",
   "metadata": {},
   "outputs": [],
   "source": []
  }
 ],
 "metadata": {
  "kernelspec": {
   "display_name": "Python 3 (ipykernel)",
   "language": "python",
   "name": "python3"
  },
  "language_info": {
   "codemirror_mode": {
    "name": "ipython",
    "version": 3
   },
   "file_extension": ".py",
   "mimetype": "text/x-python",
   "name": "python",
   "nbconvert_exporter": "python",
   "pygments_lexer": "ipython3",
   "version": "3.9.13"
  }
 },
 "nbformat": 4,
 "nbformat_minor": 5
}
