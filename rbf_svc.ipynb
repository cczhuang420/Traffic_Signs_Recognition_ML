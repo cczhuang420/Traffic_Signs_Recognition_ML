{
 "cells": [
  {
   "cell_type": "markdown",
   "id": "cee30732",
   "metadata": {},
   "source": [
    "## rbf SVC for traffic signs classification"
   ]
  },
  {
   "cell_type": "code",
   "execution_count": 1,
   "id": "e51d0cf1",
   "metadata": {},
   "outputs": [],
   "source": [
    "import joblib\n",
    "X_train_prepared = joblib.load('x_train_prepared_data.joblib')\n",
    "X_test_prepared = joblib.load('x_test_prepared_data.joblib')\n",
    "y_test = joblib.load('y_test_data.joblib')\n",
    "y_train = joblib.load('y_train_data.joblib')"
   ]
  },
  {
   "cell_type": "code",
   "execution_count": 2,
   "id": "4fb40d18",
   "metadata": {},
   "outputs": [
    {
     "name": "stdout",
     "output_type": "stream",
     "text": [
      "training_accuracy for C=10: 1.0\n",
      "\n"
     ]
    }
   ],
   "source": [
    "from sklearn.svm import SVC\n",
    "import numpy as np\n",
    "from sklearn.model_selection import RandomizedSearchCV\n",
    "from sklearn.metrics import accuracy_score,classification_report\n",
    "clf = SVC(kernel='rbf', C=100, gamma=0.5)\n",
    "clf.fit(X_train_prepared, y_train)\n",
    "print(f'training_accuracy for C=100: {clf.score(X_train_prepared, y_train)}\\n')"
   ]
  },
  {
   "cell_type": "code",
   "execution_count": 3,
   "id": "38b01cc7",
   "metadata": {},
   "outputs": [
    {
     "data": {
      "text/plain": [
       "['rbf_svc_100.joblib']"
      ]
     },
     "execution_count": 3,
     "metadata": {},
     "output_type": "execute_result"
    }
   ],
   "source": [
    "import joblib\n",
    "C=100\n",
    "outfile = f'rbf_svc_{C}.joblib'\n",
    "joblib.dump(clf, outfile)"
   ]
  },
  {
   "cell_type": "code",
   "execution_count": 6,
   "id": "c33df052",
   "metadata": {},
   "outputs": [
    {
     "name": "stdout",
     "output_type": "stream",
     "text": [
      "[ True  True  True ...  True  True  True]\n",
      "classification report for C=100 and gamma=0.5: \n",
      "\n",
      "              precision    recall  f1-score   support\n",
      "\n",
      "           0       1.00      0.42      0.59        78\n",
      "           1       0.68      0.85      0.76       979\n",
      "          10       0.87      0.70      0.78       786\n",
      "          11       1.00      0.41      0.58       497\n",
      "          12       0.12      1.00      0.22       810\n",
      "          13       1.00      0.79      0.88       812\n",
      "          14       1.00      0.46      0.63       298\n",
      "          15       0.97      0.53      0.68       243\n",
      "          16       1.00      0.59      0.74       168\n",
      "          17       1.00      0.31      0.47       425\n",
      "          18       1.00      0.38      0.55       460\n",
      "          19       1.00      0.30      0.46        86\n",
      "           2       0.89      0.39      0.54       533\n",
      "          20       1.00      0.30      0.46       122\n",
      "          21       1.00      0.27      0.43       113\n",
      "          22       1.00      0.33      0.49       138\n",
      "          23       1.00      0.27      0.43       208\n",
      "          24       1.00      0.28      0.44        92\n",
      "          25       0.98      0.44      0.61       565\n",
      "          26       1.00      0.28      0.43       229\n",
      "          27       1.00      0.27      0.43        74\n",
      "          28       1.00      0.31      0.47       213\n",
      "          29       1.00      0.33      0.50        97\n",
      "           3       0.98      0.49      0.65       559\n",
      "          30       1.00      0.35      0.52       164\n",
      "          31       0.96      0.39      0.55       280\n",
      "          32       1.00      0.36      0.53        84\n",
      "          33       1.00      0.30      0.46       265\n",
      "          34       1.00      0.29      0.45       161\n",
      "          35       1.00      0.31      0.47       464\n",
      "          36       1.00      0.30      0.46       152\n",
      "          37       1.00      0.30      0.46        71\n",
      "          38       0.86      0.83      0.84       765\n",
      "          39       1.00      0.22      0.36       108\n",
      "           4       0.83      0.65      0.73       714\n",
      "          40       1.00      0.32      0.48       116\n",
      "          41       1.00      0.31      0.48        77\n",
      "          42       1.00      0.35      0.51        81\n",
      "           5       0.78      0.54      0.64       728\n",
      "           6       1.00      0.39      0.56       150\n",
      "           7       0.87      0.57      0.69       542\n",
      "           8       0.88      0.49      0.63       563\n",
      "           9       0.99      0.63      0.77       558\n",
      "\n",
      "    accuracy                           0.55     14628\n",
      "   macro avg       0.95      0.43      0.55     14628\n",
      "weighted avg       0.88      0.55      0.61     14628\n",
      "\n"
     ]
    }
   ],
   "source": [
    "y_preds = clf.predict(X_test_prepared)\n",
    "print(np.array(y_preds==y_test))\n",
    "\n",
    "print(f'classification report for C=100 and gamma=0.5: \\n')\n",
    "print(classification_report(y_test, y_preds))\n"
   ]
  },
  {
   "cell_type": "code",
   "execution_count": 7,
   "id": "9560e209",
   "metadata": {},
   "outputs": [
    {
     "name": "stdout",
     "output_type": "stream",
     "text": [
      "training_accuracy for C=1000, gamma=0.1: 1.0\n",
      "\n"
     ]
    }
   ],
   "source": [
    "from sklearn.svm import SVC\n",
    "import numpy as np\n",
    "from sklearn.model_selection import RandomizedSearchCV\n",
    "from sklearn.metrics import accuracy_score,classification_report\n",
    "clf = SVC(kernel='rbf', C=1000, gamma=0.1)\n",
    "clf.fit(X_train_prepared, y_train)\n",
    "print(f'training_accuracy for C=1000, gamma=0.1: {clf.score(X_train_prepared, y_train)}\\n')"
   ]
  },
  {
   "cell_type": "code",
   "execution_count": 10,
   "id": "0dd078ef",
   "metadata": {},
   "outputs": [
    {
     "data": {
      "text/plain": [
       "['rbf_svc_1000.joblib']"
      ]
     },
     "execution_count": 10,
     "metadata": {},
     "output_type": "execute_result"
    }
   ],
   "source": [
    "import joblib\n",
    "outfile = f'rbf_svc_1000.joblib'\n",
    "joblib.dump(clf, outfile)"
   ]
  },
  {
   "cell_type": "code",
   "execution_count": 9,
   "id": "1ee9ed8b",
   "metadata": {},
   "outputs": [
    {
     "name": "stdout",
     "output_type": "stream",
     "text": [
      "[ True  True  True ...  True  True  True]\n",
      "classification report for C=1000 and gamma=0.1: \n",
      "\n",
      "              precision    recall  f1-score   support\n",
      "\n",
      "           0       0.94      0.94      0.94        78\n",
      "           1       0.85      0.91      0.88       979\n",
      "          10       0.87      0.94      0.90       786\n",
      "          11       0.86      0.94      0.90       497\n",
      "          12       0.96      0.99      0.98       810\n",
      "          13       0.99      1.00      0.99       812\n",
      "          14       0.93      0.94      0.94       298\n",
      "          15       0.89      0.87      0.88       243\n",
      "          16       0.96      0.94      0.95       168\n",
      "          17       0.98      0.99      0.98       425\n",
      "          18       0.91      0.93      0.92       460\n",
      "          19       0.90      0.81      0.85        86\n",
      "           2       0.74      0.64      0.69       533\n",
      "          20       0.92      0.85      0.89       122\n",
      "          21       0.96      0.95      0.96       113\n",
      "          22       0.97      0.90      0.93       138\n",
      "          23       0.97      0.94      0.95       208\n",
      "          24       0.95      0.89      0.92        92\n",
      "          25       0.88      0.93      0.90       565\n",
      "          26       0.94      0.83      0.88       229\n",
      "          27       0.88      0.86      0.87        74\n",
      "          28       0.94      0.88      0.91       213\n",
      "          29       0.99      0.91      0.95        97\n",
      "           3       0.82      0.79      0.80       559\n",
      "          30       1.00      0.85      0.92       164\n",
      "          31       0.95      0.97      0.96       280\n",
      "          32       1.00      0.90      0.95        84\n",
      "          33       0.97      0.92      0.95       265\n",
      "          34       0.98      0.94      0.96       161\n",
      "          35       0.97      0.96      0.96       464\n",
      "          36       0.99      0.91      0.95       152\n",
      "          37       1.00      0.99      0.99        71\n",
      "          38       0.92      0.98      0.95       765\n",
      "          39       1.00      0.98      0.99       108\n",
      "           4       0.82      0.87      0.85       714\n",
      "          40       0.96      0.95      0.96       116\n",
      "          41       1.00      0.95      0.97        77\n",
      "          42       1.00      0.95      0.97        81\n",
      "           5       0.75      0.75      0.75       728\n",
      "           6       0.99      0.98      0.99       150\n",
      "           7       0.82      0.79      0.81       542\n",
      "           8       0.84      0.77      0.80       563\n",
      "           9       0.96      0.94      0.95       558\n",
      "\n",
      "    accuracy                           0.90     14628\n",
      "   macro avg       0.93      0.91      0.92     14628\n",
      "weighted avg       0.90      0.90      0.90     14628\n",
      "\n"
     ]
    }
   ],
   "source": [
    "y_preds = clf.predict(X_test_prepared)\n",
    "print(np.array(y_preds==y_test))\n",
    "\n",
    "print(f'classification report for C=1000 and gamma=0.1: \\n')\n",
    "print(classification_report(y_test, y_preds))\n"
   ]
  },
  {
   "cell_type": "code",
   "execution_count": 11,
   "id": "4e4ac487",
   "metadata": {},
   "outputs": [
    {
     "name": "stdout",
     "output_type": "stream",
     "text": [
      "training_accuracy for C=10000, gamma=0.1: 1.0\n",
      "\n"
     ]
    }
   ],
   "source": [
    "from sklearn.svm import SVC\n",
    "import numpy as np\n",
    "from sklearn.model_selection import RandomizedSearchCV\n",
    "from sklearn.metrics import accuracy_score,classification_report\n",
    "clf = SVC(kernel='rbf', C=10000, gamma=0.1)\n",
    "clf.fit(X_train_prepared, y_train)\n",
    "print(f'training_accuracy for C=10000, gamma=0.1: {clf.score(X_train_prepared, y_train)}\\n')"
   ]
  },
  {
   "cell_type": "code",
   "execution_count": 12,
   "id": "99e02116",
   "metadata": {},
   "outputs": [
    {
     "data": {
      "text/plain": [
       "['rbf_svc_10000_gamma0.1.joblib']"
      ]
     },
     "execution_count": 12,
     "metadata": {},
     "output_type": "execute_result"
    }
   ],
   "source": [
    "import joblib\n",
    "outfile = f'rbf_svc_10000_gamma0.1.joblib'\n",
    "joblib.dump(clf, outfile)"
   ]
  },
  {
   "cell_type": "code",
   "execution_count": 13,
   "id": "47ecdbc7",
   "metadata": {},
   "outputs": [
    {
     "name": "stdout",
     "output_type": "stream",
     "text": [
      "[ True  True  True ...  True  True  True]\n",
      "classification report for C=10000 and gamma=0.1: \n",
      "\n",
      "              precision    recall  f1-score   support\n",
      "\n",
      "           0       0.94      0.94      0.94        78\n",
      "           1       0.85      0.91      0.88       979\n",
      "          10       0.87      0.94      0.90       786\n",
      "          11       0.86      0.94      0.90       497\n",
      "          12       0.96      0.99      0.98       810\n",
      "          13       0.99      1.00      0.99       812\n",
      "          14       0.93      0.94      0.94       298\n",
      "          15       0.89      0.87      0.88       243\n",
      "          16       0.96      0.94      0.95       168\n",
      "          17       0.98      0.99      0.98       425\n",
      "          18       0.91      0.93      0.92       460\n",
      "          19       0.90      0.81      0.85        86\n",
      "           2       0.74      0.64      0.69       533\n",
      "          20       0.92      0.85      0.89       122\n",
      "          21       0.96      0.95      0.96       113\n",
      "          22       0.97      0.90      0.93       138\n",
      "          23       0.97      0.94      0.95       208\n",
      "          24       0.95      0.89      0.92        92\n",
      "          25       0.88      0.93      0.90       565\n",
      "          26       0.94      0.83      0.88       229\n",
      "          27       0.88      0.86      0.87        74\n",
      "          28       0.94      0.88      0.91       213\n",
      "          29       0.99      0.91      0.95        97\n",
      "           3       0.82      0.79      0.80       559\n",
      "          30       1.00      0.85      0.92       164\n",
      "          31       0.95      0.97      0.96       280\n",
      "          32       1.00      0.90      0.95        84\n",
      "          33       0.97      0.92      0.95       265\n",
      "          34       0.98      0.94      0.96       161\n",
      "          35       0.97      0.96      0.96       464\n",
      "          36       0.99      0.91      0.95       152\n",
      "          37       1.00      0.99      0.99        71\n",
      "          38       0.92      0.98      0.95       765\n",
      "          39       1.00      0.98      0.99       108\n",
      "           4       0.82      0.87      0.85       714\n",
      "          40       0.96      0.95      0.96       116\n",
      "          41       1.00      0.95      0.97        77\n",
      "          42       1.00      0.95      0.97        81\n",
      "           5       0.75      0.75      0.75       728\n",
      "           6       0.99      0.98      0.99       150\n",
      "           7       0.82      0.79      0.81       542\n",
      "           8       0.84      0.77      0.80       563\n",
      "           9       0.96      0.94      0.95       558\n",
      "\n",
      "    accuracy                           0.90     14628\n",
      "   macro avg       0.93      0.91      0.92     14628\n",
      "weighted avg       0.90      0.90      0.90     14628\n",
      "\n"
     ]
    }
   ],
   "source": [
    "y_preds = clf.predict(X_test_prepared)\n",
    "print(np.array(y_preds==y_test))\n",
    "\n",
    "print(f'classification report for C=10000 and gamma=0.1: \\n')\n",
    "print(classification_report(y_test, y_preds))"
   ]
  },
  {
   "cell_type": "code",
   "execution_count": 2,
   "id": "4a4cbfab",
   "metadata": {},
   "outputs": [
    {
     "name": "stdout",
     "output_type": "stream",
     "text": [
      "training_accuracy for C=1000, gamma=0.5: 1.0\n",
      "\n"
     ]
    }
   ],
   "source": [
    "from sklearn.svm import SVC\n",
    "import numpy as np\n",
    "from sklearn.model_selection import RandomizedSearchCV\n",
    "from sklearn.metrics import accuracy_score,classification_report\n",
    "import joblib\n",
    "\n",
    "X_train_prepared = joblib.load('x_train_prepared_data.joblib')\n",
    "X_test_prepared = joblib.load('x_test_prepared_data.joblib')\n",
    "y_test = joblib.load('y_test_data.joblib')\n",
    "y_train = joblib.load('y_train_data.joblib')\n",
    "\n",
    "clf = SVC(kernel='rbf', C=1000, gamma=0.5)\n",
    "clf.fit(X_train_prepared, y_train)\n",
    "print(f'training_accuracy for C=1000, gamma=0.5: {clf.score(X_train_prepared, y_train)}\\n')"
   ]
  },
  {
   "cell_type": "code",
   "execution_count": 3,
   "id": "c8e349fb",
   "metadata": {},
   "outputs": [
    {
     "data": {
      "text/plain": [
       "['rbf_svc_1000_gamma0.5.joblib']"
      ]
     },
     "execution_count": 3,
     "metadata": {},
     "output_type": "execute_result"
    }
   ],
   "source": [
    "import joblib\n",
    "outfile = f'rbf_svc_1000_gamma0.5.joblib'\n",
    "joblib.dump(clf, outfile)"
   ]
  },
  {
   "cell_type": "code",
   "execution_count": 4,
   "id": "1c7ef13f",
   "metadata": {},
   "outputs": [
    {
     "name": "stdout",
     "output_type": "stream",
     "text": [
      "[ True  True  True ...  True  True  True]\n",
      "classification report for C=1000 and gamma=0.5: \n",
      "\n",
      "              precision    recall  f1-score   support\n",
      "\n",
      "           0       1.00      0.42      0.59        78\n",
      "           1       0.68      0.85      0.76       979\n",
      "          10       0.87      0.70      0.78       786\n",
      "          11       1.00      0.41      0.58       497\n",
      "          12       0.12      1.00      0.22       810\n",
      "          13       1.00      0.79      0.88       812\n",
      "          14       1.00      0.46      0.63       298\n",
      "          15       0.97      0.53      0.68       243\n",
      "          16       1.00      0.59      0.74       168\n",
      "          17       1.00      0.31      0.47       425\n",
      "          18       1.00      0.38      0.55       460\n",
      "          19       1.00      0.30      0.46        86\n",
      "           2       0.89      0.39      0.54       533\n",
      "          20       1.00      0.30      0.46       122\n",
      "          21       1.00      0.27      0.43       113\n",
      "          22       1.00      0.33      0.49       138\n",
      "          23       1.00      0.27      0.43       208\n",
      "          24       1.00      0.28      0.44        92\n",
      "          25       0.98      0.44      0.61       565\n",
      "          26       1.00      0.28      0.43       229\n",
      "          27       1.00      0.27      0.43        74\n",
      "          28       1.00      0.31      0.47       213\n",
      "          29       1.00      0.33      0.50        97\n",
      "           3       0.98      0.49      0.65       559\n",
      "          30       1.00      0.35      0.52       164\n",
      "          31       0.96      0.39      0.55       280\n",
      "          32       1.00      0.36      0.53        84\n",
      "          33       1.00      0.30      0.46       265\n",
      "          34       1.00      0.29      0.45       161\n",
      "          35       1.00      0.31      0.47       464\n",
      "          36       1.00      0.30      0.46       152\n",
      "          37       1.00      0.30      0.46        71\n",
      "          38       0.86      0.83      0.84       765\n",
      "          39       1.00      0.22      0.36       108\n",
      "           4       0.83      0.65      0.73       714\n",
      "          40       1.00      0.32      0.48       116\n",
      "          41       1.00      0.31      0.48        77\n",
      "          42       1.00      0.35      0.51        81\n",
      "           5       0.78      0.54      0.64       728\n",
      "           6       1.00      0.39      0.56       150\n",
      "           7       0.87      0.57      0.69       542\n",
      "           8       0.88      0.49      0.63       563\n",
      "           9       0.99      0.63      0.77       558\n",
      "\n",
      "    accuracy                           0.55     14628\n",
      "   macro avg       0.95      0.43      0.55     14628\n",
      "weighted avg       0.88      0.55      0.61     14628\n",
      "\n"
     ]
    }
   ],
   "source": [
    "y_preds = clf.predict(X_test_prepared)\n",
    "print(np.array(y_preds==y_test))\n",
    "\n",
    "print(f'classification report for C=1000 and gamma=0.5: \\n')\n",
    "print(classification_report(y_test, y_preds))"
   ]
  },
  {
   "cell_type": "code",
   "execution_count": 17,
   "id": "bbfb3493",
   "metadata": {},
   "outputs": [],
   "source": [
    "# this is not as good as previous, so I would like to stop here"
   ]
  },
  {
   "cell_type": "code",
   "execution_count": null,
   "id": "e57f4276",
   "metadata": {},
   "outputs": [],
   "source": []
  }
 ],
 "metadata": {
  "kernelspec": {
   "display_name": "Python 3 (ipykernel)",
   "language": "python",
   "name": "python3"
  },
  "language_info": {
   "codemirror_mode": {
    "name": "ipython",
    "version": 3
   },
   "file_extension": ".py",
   "mimetype": "text/x-python",
   "name": "python",
   "nbconvert_exporter": "python",
   "pygments_lexer": "ipython3",
   "version": "3.9.13"
  }
 },
 "nbformat": 4,
 "nbformat_minor": 5
}
